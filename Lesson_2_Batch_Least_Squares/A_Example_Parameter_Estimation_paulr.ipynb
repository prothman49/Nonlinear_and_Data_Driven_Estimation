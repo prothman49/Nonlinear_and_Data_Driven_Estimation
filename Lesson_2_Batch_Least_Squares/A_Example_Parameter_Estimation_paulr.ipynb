{
  "cells": [
    {
      "cell_type": "markdown",
      "metadata": {
        "id": "yshfT5Fjmo-o"
      },
      "source": [
        "# Parameter Estimation Example (Linear)\n",
        "\n",
        "From Crassidis & Junkins Chapter 1"
      ]
    },
    {
      "cell_type": "code",
      "execution_count": 44,
      "metadata": {
        "id": "VZxHxYyMmo-p"
      },
      "outputs": [],
      "source": [
        "import numpy as np\n",
        "import scipy.stats\n",
        "import matplotlib.pyplot as plt\n",
        "\n",
        "np.random.seed(1)"
      ]
    },
    {
      "cell_type": "markdown",
      "metadata": {
        "id": "XeGzRxJDmo-p"
      },
      "source": [
        "# Generate sample time series data\n",
        "\n",
        "True model:\n",
        "\n",
        "$$\n",
        "\\tilde{y}(t) = t + \\sin(t) + 2\\cos(2t) - \\frac{0.4e^{t}}{10^{-4}}\n",
        "$$"
      ]
    },
    {
      "cell_type": "code",
      "execution_count": 45,
      "metadata": {
        "id": "Td0XlNk3mo-p"
      },
      "outputs": [],
      "source": [
        "t = np.linspace(0, 6, 100)\n",
        "x = np.array([[1, 1, 2, -0.4e-4]]).T\n",
        "H = np.vstack([t, np.sin(t), np.cos(2*t), np.exp(t)]).T\n",
        "y = H@x"
      ]
    },
    {
      "cell_type": "markdown",
      "metadata": {
        "id": "XLDIWqGLmo-p"
      },
      "source": [
        "# Add some normal (gaussian) noise\n",
        "\n",
        "* mean = 0\n",
        "* standard deviation = 0.5"
      ]
    },
    {
      "cell_type": "code",
      "execution_count": 46,
      "metadata": {
        "id": "YseryEiRmo-p"
      },
      "outputs": [],
      "source": [
        "# Example for Gaussian (normal) random variable\n",
        "\n",
        "noise_mean = 0\n",
        "noise_std = 3.5\n",
        "\n",
        "v = np.column_stack(np.random.normal(noise_mean, noise_std, len(y))).T"
      ]
    },
    {
      "cell_type": "code",
      "execution_count": 47,
      "metadata": {
        "id": "qe4eIw6mmo-p"
      },
      "outputs": [],
      "source": [
        "y_tilde = y+v"
      ]
    },
    {
      "cell_type": "markdown",
      "metadata": {
        "id": "6FKM7w-Smo-q"
      },
      "source": [
        "# Plotting"
      ]
    },
    {
      "cell_type": "code",
      "execution_count": 48,
      "metadata": {
        "id": "-0Ncdxwjmo-q"
      },
      "outputs": [],
      "source": [
        "def plot_tme(t, true, measured, estimated=None):\n",
        "    fig = plt.figure(figsize=(6,4))\n",
        "    ax = fig.add_subplot(111)\n",
        "\n",
        "    ax.plot(t, true, '--', color='black', label='y true')\n",
        "    ax.plot(t, measured, '*', color='blue', label='y measured')\n",
        "\n",
        "    if estimated is not None:\n",
        "        ax.plot(t, estimated, color='red')\n",
        "\n",
        "    ax.set_xlabel('Time')\n",
        "    ax.set_ylabel('Measurements or State')\n",
        "\n",
        "    ax.legend()\n",
        "\n",
        "    return ax"
      ]
    },
    {
      "cell_type": "code",
      "execution_count": 49,
      "metadata": {
        "colab": {
          "base_uri": "https://localhost:8080/",
          "height": 405
        },
        "id": "fMTtTO7lmo-q",
        "outputId": "c26c77fc-917d-4783-aa34-bd261efe6ae1"
      },
      "outputs": [
        {
          "output_type": "execute_result",
          "data": {
            "text/plain": [
              "<Axes: xlabel='Time', ylabel='Measurements or State'>"
            ]
          },
          "metadata": {},
          "execution_count": 49
        },
        {
          "output_type": "display_data",
          "data": {
            "text/plain": [
              "<Figure size 600x400 with 1 Axes>"
            ],
            "image/png": "[encoded data removed]"
          },
          "metadata": {}
        }
      ],
      "source": [
        "plot_tme(t, y, y_tilde)"
      ]
    },
    {
      "cell_type": "markdown",
      "metadata": {
        "id": "N0dEZhUrmo-q"
      },
      "source": [
        "# Exercises\n",
        "\n",
        "1. Change the standard deviation of the noise to a different value\n",
        "2. Verify that the standard deviation of the difference between the noisy measurements and the true value is indeed equal to the standard deviation you specified.  "
      ]
    },
    {
      "cell_type": "markdown",
      "metadata": {
        "id": "llTuNmrpmo-q"
      },
      "source": [
        "# Lessons learned and next steps\n",
        "\n",
        "1. How to simulate simple time series in python\n",
        "2. How to add normally distributed noise to time series\n",
        "3. How to make simple plots in python"
      ]
    }
  ],
  "metadata": {
    "kernelspec": {
      "display_name": "PY38",
      "language": "python",
      "name": "py38"
    },
    "language_info": {
      "codemirror_mode": {
        "name": "ipython",
        "version": 3
      },
      "file_extension": ".py",
      "mimetype": "text/x-python",
      "name": "python",
      "nbconvert_exporter": "python",
      "pygments_lexer": "ipython3",
      "version": "3.8.6"
    },
    "colab": {
      "provenance": []
    }
  },
  "nbformat": 4,
  "nbformat_minor": 0
}